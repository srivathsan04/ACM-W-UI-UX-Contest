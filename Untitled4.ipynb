{
  "nbformat": 4,
  "nbformat_minor": 0,
  "metadata": {
    "colab": {
      "provenance": [],
      "authorship_tag": "ABX9TyM+rYg8jz8x8uDtGr9btG8Z",
      "include_colab_link": true
    },
    "kernelspec": {
      "name": "python3",
      "display_name": "Python 3"
    },
    "language_info": {
      "name": "python"
    }
  },
  "cells": [
    {
      "cell_type": "markdown",
      "metadata": {
        "id": "view-in-github",
        "colab_type": "text"
      },
      "source": [
        "<a href=\"https://colab.research.google.com/github/srivathsan04/ACM-W-UI-UX-Contest/blob/main/Untitled4.ipynb\" target=\"_parent\"><img src=\"https://colab.research.google.com/assets/colab-badge.svg\" alt=\"Open In Colab\"/></a>"
      ]
    },
    {
      "cell_type": "code",
      "execution_count": 12,
      "metadata": {
        "id": "dcBMwN8T33kV"
      },
      "outputs": [],
      "source": [
        "import sympy as sp"
      ]
    },
    {
      "cell_type": "markdown",
      "source": [
        "# 1. Calculate √2 with 100 decimals"
      ],
      "metadata": {
        "id": "IRWbUOdM39SU"
      }
    },
    {
      "cell_type": "code",
      "source": [
        "sqrt_2 = sp.sqrt(2).evalf(100)\n",
        "print(\"Square root of 2 with 100 decimals:\", sqrt_2)"
      ],
      "metadata": {
        "colab": {
          "base_uri": "https://localhost:8080/"
        },
        "id": "d7WncR7q38B2",
        "outputId": "e7b89fe7-c93e-4a14-83f0-5a0915ed8205"
      },
      "execution_count": 13,
      "outputs": [
        {
          "output_type": "stream",
          "name": "stdout",
          "text": [
            "Square root of 2 with 100 decimals: 1.414213562373095048801688724209698078569671875376948073176679737990732478462107038850387534327641573\n"
          ]
        }
      ]
    },
    {
      "cell_type": "markdown",
      "source": [
        "# 2. Calculate 1/2 + 1/3 in rational arithmetic"
      ],
      "metadata": {
        "id": "HCDEF06I4SNQ"
      }
    },
    {
      "cell_type": "code",
      "source": [
        "rational_sum = sp.Rational(1, 2) + sp.Rational(1, 3)\n",
        "print(\"1/2 + 1/3 in rational arithmetic:\", rational_sum)"
      ],
      "metadata": {
        "colab": {
          "base_uri": "https://localhost:8080/"
        },
        "id": "zdfpN_As4SwB",
        "outputId": "2da26160-b0a7-428f-e74f-68a618d3d07e"
      },
      "execution_count": 14,
      "outputs": [
        {
          "output_type": "stream",
          "name": "stdout",
          "text": [
            "1/2 + 1/3 in rational arithmetic: 5/6\n"
          ]
        }
      ]
    },
    {
      "cell_type": "markdown",
      "source": [
        "# 3. Calculate the expanded form of (x+y)"
      ],
      "metadata": {
        "id": "vHC4edMC4THa"
      }
    },
    {
      "cell_type": "code",
      "source": [
        "x, y = sp.symbols('x y')\n",
        "expanded_form = sp.expand((x + y)**2)\n",
        "print(\"Expanded form of (x + y)^2:\", expanded_form)"
      ],
      "metadata": {
        "colab": {
          "base_uri": "https://localhost:8080/"
        },
        "id": "_uJysYTt4VD7",
        "outputId": "bd5f2bbb-394c-4c29-a166-f97a244e8a3c"
      },
      "execution_count": 15,
      "outputs": [
        {
          "output_type": "stream",
          "name": "stdout",
          "text": [
            "Expanded form of (x + y)^2: x**2 + 2*x*y + y**2\n"
          ]
        }
      ]
    },
    {
      "cell_type": "markdown",
      "source": [
        "# 4. Simplify the trigonometric expression sin(x) / cos(x)"
      ],
      "metadata": {
        "id": "cuWDWVUZ4Vct"
      }
    },
    {
      "cell_type": "code",
      "source": [
        "trig_expression = sp.sin(x) / sp.cos(x)\n",
        "simplified_trig = sp.simplify(trig_expression)\n",
        "print(\"Simplified trigonometric expression sin(x) / cos(x):\", simplified_trig)"
      ],
      "metadata": {
        "colab": {
          "base_uri": "https://localhost:8080/"
        },
        "id": "3JkMA0vy4VqV",
        "outputId": "4e708e49-b4e4-4473-c340-74e8c4c1489f"
      },
      "execution_count": 16,
      "outputs": [
        {
          "output_type": "stream",
          "name": "stdout",
          "text": [
            "Simplified trigonometric expression sin(x) / cos(x): tan(x)\n"
          ]
        }
      ]
    },
    {
      "cell_type": "markdown",
      "source": [
        "# 5. Calculate lim x->0 (sin(x)-x)/x^3"
      ],
      "metadata": {
        "id": "F80GW47F4V4x"
      }
    },
    {
      "cell_type": "code",
      "source": [
        "limit_expression = (sp.sin(x) - x) / x**3\n",
        "limit_result = sp.limit(limit_expression, x, 0)\n",
        "print(\"Limit as x approaches 0:\", limit_result)"
      ],
      "metadata": {
        "colab": {
          "base_uri": "https://localhost:8080/"
        },
        "id": "eb-ce76T4WGd",
        "outputId": "7fa5d044-6312-4d0b-ab56-57ba54731911"
      },
      "execution_count": 17,
      "outputs": [
        {
          "output_type": "stream",
          "name": "stdout",
          "text": [
            "Limit as x approaches 0: -1/6\n"
          ]
        }
      ]
    },
    {
      "cell_type": "markdown",
      "source": [
        "# 6. Calculate the derivative of log(x), 1/x, sin(x), cos(x) for x"
      ],
      "metadata": {
        "id": "ydWwATee4WT_"
      }
    },
    {
      "cell_type": "code",
      "source": [
        "functions = [sp.log(x), 1/x, sp.sin(x), sp.cos(x)]\n",
        "derivatives = [sp.diff(f, x) for f in functions]\n",
        "print(\"Derivatives:\", derivatives)"
      ],
      "metadata": {
        "colab": {
          "base_uri": "https://localhost:8080/"
        },
        "id": "WpfDP0Lw4WeF",
        "outputId": "28b7f5cf-5743-49e0-d997-747ffef22e51"
      },
      "execution_count": 18,
      "outputs": [
        {
          "output_type": "stream",
          "name": "stdout",
          "text": [
            "Derivatives: [1/x, -1/x**2, cos(x), -sin(x)]\n"
          ]
        }
      ]
    },
    {
      "cell_type": "markdown",
      "source": [
        "# 7. Solve the system of equations x + y = 2, 2x + y = 0"
      ],
      "metadata": {
        "id": "M3RbDcyy4WnL"
      }
    },
    {
      "cell_type": "code",
      "source": [
        "solution = sp.solve((x + y - 2, 2*x + y), (x, y))\n",
        "print(\"Solution to the system of equations:\", solution)"
      ],
      "metadata": {
        "colab": {
          "base_uri": "https://localhost:8080/"
        },
        "id": "qpFbcsfv4Wyk",
        "outputId": "9c4c400b-5ae9-42cc-929e-22ab69a20294"
      },
      "execution_count": 19,
      "outputs": [
        {
          "output_type": "stream",
          "name": "stdout",
          "text": [
            "Solution to the system of equations: {x: -2, y: 4}\n"
          ]
        }
      ]
    },
    {
      "cell_type": "markdown",
      "source": [
        "# 8. Integrate x^2, sin(x), cos(x) in terms of x and y"
      ],
      "metadata": {
        "id": "8wv94gbt40WS"
      }
    },
    {
      "cell_type": "code",
      "source": [
        "integrate_x = sp.integrate(x**2, x)\n",
        "integrate_sin = sp.integrate(sp.sin(x), x)\n",
        "integrate_cos = sp.integrate(sp.cos(x), x)\n",
        "print(\"Integral of x^2 with respect to x:\", integrate_x)\n",
        "print(\"Integral of sin(x) with respect to x:\", integrate_sin)\n",
        "print(\"Integral of cos(x) with respect to x:\", integrate_cos)"
      ],
      "metadata": {
        "colab": {
          "base_uri": "https://localhost:8080/"
        },
        "id": "BKPFYAq4401h",
        "outputId": "e21271ca-2acf-41f2-b86a-60245c85a3b8"
      },
      "execution_count": 20,
      "outputs": [
        {
          "output_type": "stream",
          "name": "stdout",
          "text": [
            "Integral of x^2 with respect to x: x**3/3\n",
            "Integral of sin(x) with respect to x: -cos(x)\n",
            "Integral of cos(x) with respect to x: sin(x)\n"
          ]
        }
      ]
    },
    {
      "cell_type": "markdown",
      "source": [
        "# 9. Solve f''(x) + 9f(x) = 1"
      ],
      "metadata": {
        "id": "DXS0VwPA42YH"
      }
    },
    {
      "cell_type": "code",
      "source": [
        "f = sp.Function('f')(x)\n",
        "diffeq_solution = sp.dsolve(f.diff(x, x) + 9*f - 1, f)\n",
        "print(\"Solution to the differential equation:\", diffeq_solution)"
      ],
      "metadata": {
        "colab": {
          "base_uri": "https://localhost:8080/"
        },
        "id": "eY_mGav-42kd",
        "outputId": "d00c2b89-0049-4b04-9aaa-e309915f44fe"
      },
      "execution_count": 21,
      "outputs": [
        {
          "output_type": "stream",
          "name": "stdout",
          "text": [
            "Solution to the differential equation: Eq(f(x), C1*sin(3*x) + C2*cos(3*x) + 1/9)\n"
          ]
        }
      ]
    },
    {
      "cell_type": "markdown",
      "source": [
        "# 10. Using matrices, solve the linear equations"
      ],
      "metadata": {
        "id": "uHtrlAEk428W"
      }
    },
    {
      "cell_type": "code",
      "source": [
        "A = sp.Matrix([[1, 1], [2, 1]])\n",
        "b = sp.Matrix([2, 0])\n",
        "solution_matrix = A.inv() * b\n",
        "print(\"Solution to the linear equations using matrices:\", solution_matrix)"
      ],
      "metadata": {
        "colab": {
          "base_uri": "https://localhost:8080/"
        },
        "id": "OlVI5OJ843JW",
        "outputId": "0f428887-fbfb-49fb-d519-20912be3cf15"
      },
      "execution_count": 22,
      "outputs": [
        {
          "output_type": "stream",
          "name": "stdout",
          "text": [
            "Solution to the linear equations using matrices: Matrix([[-2], [4]])\n"
          ]
        }
      ]
    },
    {
      "cell_type": "code",
      "source": [],
      "metadata": {
        "id": "XnRRClhPSZYN"
      },
      "execution_count": null,
      "outputs": []
    }
  ]
}